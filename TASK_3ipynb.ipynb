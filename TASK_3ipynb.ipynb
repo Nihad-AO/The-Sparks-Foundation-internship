{
  "nbformat": 4,
  "nbformat_minor": 0,
  "metadata": {
    "colab": {
      "name": " TASK-3ipynb",
      "provenance": [],
      "collapsed_sections": [],
      "mount_file_id": "1aOeWj0rc0dzZjQ48TA7vGLUTdmucPQa_",
      "authorship_tag": "ABX9TyMaeaz8z0KgoJojNqJxHOFG",
      "include_colab_link": true
    },
    "kernelspec": {
      "name": "python3",
      "display_name": "Python 3"
    },
    "language_info": {
      "name": "python"
    }
  },
  "cells": [
    {
      "cell_type": "markdown",
      "metadata": {
        "id": "view-in-github",
        "colab_type": "text"
      },
      "source": [
        "<a href=\"https://colab.research.google.com/github/Nihad-AO/The-Sparks-Foundation-internship/blob/main/TASK_3ipynb.ipynb\" target=\"_parent\"><img src=\"https://colab.research.google.com/assets/colab-badge.svg\" alt=\"Open In Colab\"/></a>"
      ]
    },
    {
      "cell_type": "markdown",
      "metadata": {
        "id": "mg-rebi6w_zZ"
      },
      "source": [
        "## **THE SPARKS FOUNDATION**\n"
      ]
    },
    {
      "cell_type": "markdown",
      "metadata": {
        "id": "wIH0UfKQxTXr"
      },
      "source": [
        "# *TASK 3* "
      ]
    },
    {
      "cell_type": "code",
      "metadata": {
        "id": "inidyORVxFda"
      },
      "source": [
        "import pandas as pd\n",
        "import seaborn as sns\n",
        "import matplotlib.pyplot as plt"
      ],
      "execution_count": 16,
      "outputs": []
    },
    {
      "cell_type": "code",
      "metadata": {
        "id": "8Li0yTWs6cHZ"
      },
      "source": [
        "import warnings\n",
        "warnings.filterwarnings(\"ignore\")"
      ],
      "execution_count": 17,
      "outputs": []
    },
    {
      "cell_type": "code",
      "metadata": {
        "id": "yFhxu_yUxY83"
      },
      "source": [
        "dataset=pd.read_csv('/content/drive/MyDrive/THE SPARKS FOUNDATION/SampleSuperstore (1).csv')"
      ],
      "execution_count": 18,
      "outputs": []
    },
    {
      "cell_type": "code",
      "metadata": {
        "colab": {
          "base_uri": "https://localhost:8080/",
          "height": 326
        },
        "id": "YfP_pAN2x-vE",
        "outputId": "73755a07-c3bb-4d78-c686-026b9efb34cd"
      },
      "source": [
        "dataset.head()"
      ],
      "execution_count": 19,
      "outputs": [
        {
          "output_type": "execute_result",
          "data": {
            "text/html": [
              "<div>\n",
              "<style scoped>\n",
              "    .dataframe tbody tr th:only-of-type {\n",
              "        vertical-align: middle;\n",
              "    }\n",
              "\n",
              "    .dataframe tbody tr th {\n",
              "        vertical-align: top;\n",
              "    }\n",
              "\n",
              "    .dataframe thead th {\n",
              "        text-align: right;\n",
              "    }\n",
              "</style>\n",
              "<table border=\"1\" class=\"dataframe\">\n",
              "  <thead>\n",
              "    <tr style=\"text-align: right;\">\n",
              "      <th></th>\n",
              "      <th>Ship Mode</th>\n",
              "      <th>Segment</th>\n",
              "      <th>Country</th>\n",
              "      <th>City</th>\n",
              "      <th>State</th>\n",
              "      <th>Postal Code</th>\n",
              "      <th>Region</th>\n",
              "      <th>Category</th>\n",
              "      <th>Sub-Category</th>\n",
              "      <th>Sales</th>\n",
              "      <th>Quantity</th>\n",
              "      <th>Discount</th>\n",
              "      <th>Profit</th>\n",
              "    </tr>\n",
              "  </thead>\n",
              "  <tbody>\n",
              "    <tr>\n",
              "      <th>0</th>\n",
              "      <td>Second Class</td>\n",
              "      <td>Consumer</td>\n",
              "      <td>United States</td>\n",
              "      <td>Henderson</td>\n",
              "      <td>Kentucky</td>\n",
              "      <td>42420</td>\n",
              "      <td>South</td>\n",
              "      <td>Furniture</td>\n",
              "      <td>Bookcases</td>\n",
              "      <td>261.9600</td>\n",
              "      <td>2</td>\n",
              "      <td>0.00</td>\n",
              "      <td>41.9136</td>\n",
              "    </tr>\n",
              "    <tr>\n",
              "      <th>1</th>\n",
              "      <td>Second Class</td>\n",
              "      <td>Consumer</td>\n",
              "      <td>United States</td>\n",
              "      <td>Henderson</td>\n",
              "      <td>Kentucky</td>\n",
              "      <td>42420</td>\n",
              "      <td>South</td>\n",
              "      <td>Furniture</td>\n",
              "      <td>Chairs</td>\n",
              "      <td>731.9400</td>\n",
              "      <td>3</td>\n",
              "      <td>0.00</td>\n",
              "      <td>219.5820</td>\n",
              "    </tr>\n",
              "    <tr>\n",
              "      <th>2</th>\n",
              "      <td>Second Class</td>\n",
              "      <td>Corporate</td>\n",
              "      <td>United States</td>\n",
              "      <td>Los Angeles</td>\n",
              "      <td>California</td>\n",
              "      <td>90036</td>\n",
              "      <td>West</td>\n",
              "      <td>Office Supplies</td>\n",
              "      <td>Labels</td>\n",
              "      <td>14.6200</td>\n",
              "      <td>2</td>\n",
              "      <td>0.00</td>\n",
              "      <td>6.8714</td>\n",
              "    </tr>\n",
              "    <tr>\n",
              "      <th>3</th>\n",
              "      <td>Standard Class</td>\n",
              "      <td>Consumer</td>\n",
              "      <td>United States</td>\n",
              "      <td>Fort Lauderdale</td>\n",
              "      <td>Florida</td>\n",
              "      <td>33311</td>\n",
              "      <td>South</td>\n",
              "      <td>Furniture</td>\n",
              "      <td>Tables</td>\n",
              "      <td>957.5775</td>\n",
              "      <td>5</td>\n",
              "      <td>0.45</td>\n",
              "      <td>-383.0310</td>\n",
              "    </tr>\n",
              "    <tr>\n",
              "      <th>4</th>\n",
              "      <td>Standard Class</td>\n",
              "      <td>Consumer</td>\n",
              "      <td>United States</td>\n",
              "      <td>Fort Lauderdale</td>\n",
              "      <td>Florida</td>\n",
              "      <td>33311</td>\n",
              "      <td>South</td>\n",
              "      <td>Office Supplies</td>\n",
              "      <td>Storage</td>\n",
              "      <td>22.3680</td>\n",
              "      <td>2</td>\n",
              "      <td>0.20</td>\n",
              "      <td>2.5164</td>\n",
              "    </tr>\n",
              "  </tbody>\n",
              "</table>\n",
              "</div>"
            ],
            "text/plain": [
              "        Ship Mode    Segment        Country  ... Quantity Discount    Profit\n",
              "0    Second Class   Consumer  United States  ...        2     0.00   41.9136\n",
              "1    Second Class   Consumer  United States  ...        3     0.00  219.5820\n",
              "2    Second Class  Corporate  United States  ...        2     0.00    6.8714\n",
              "3  Standard Class   Consumer  United States  ...        5     0.45 -383.0310\n",
              "4  Standard Class   Consumer  United States  ...        2     0.20    2.5164\n",
              "\n",
              "[5 rows x 13 columns]"
            ]
          },
          "metadata": {},
          "execution_count": 19
        }
      ]
    },
    {
      "cell_type": "code",
      "metadata": {
        "colab": {
          "base_uri": "https://localhost:8080/"
        },
        "id": "ZqUpqe1mx-_0",
        "outputId": "4c744302-adaa-4406-bcdb-eb1200cd4e4d"
      },
      "source": [
        "dataset.shape"
      ],
      "execution_count": 20,
      "outputs": [
        {
          "output_type": "execute_result",
          "data": {
            "text/plain": [
              "(9994, 13)"
            ]
          },
          "metadata": {},
          "execution_count": 20
        }
      ]
    },
    {
      "cell_type": "code",
      "metadata": {
        "colab": {
          "base_uri": "https://localhost:8080/"
        },
        "id": "M6kIMTj9x_CW",
        "outputId": "26fa25a4-747e-4eed-9835-82fe94b6d0ad"
      },
      "source": [
        "dataset.columns"
      ],
      "execution_count": 21,
      "outputs": [
        {
          "output_type": "execute_result",
          "data": {
            "text/plain": [
              "Index(['Ship Mode', 'Segment', 'Country', 'City', 'State', 'Postal Code',\n",
              "       'Region', 'Category', 'Sub-Category', 'Sales', 'Quantity', 'Discount',\n",
              "       'Profit'],\n",
              "      dtype='object')"
            ]
          },
          "metadata": {},
          "execution_count": 21
        }
      ]
    },
    {
      "cell_type": "code",
      "metadata": {
        "colab": {
          "base_uri": "https://localhost:8080/"
        },
        "id": "B5yAf5Ebx_Hw",
        "outputId": "ccfbc80a-94d3-4c5f-f17b-625d2332cd6f"
      },
      "source": [
        "dataset.isnull().sum()"
      ],
      "execution_count": 22,
      "outputs": [
        {
          "output_type": "execute_result",
          "data": {
            "text/plain": [
              "Ship Mode       0\n",
              "Segment         0\n",
              "Country         0\n",
              "City            0\n",
              "State           0\n",
              "Postal Code     0\n",
              "Region          0\n",
              "Category        0\n",
              "Sub-Category    0\n",
              "Sales           0\n",
              "Quantity        0\n",
              "Discount        0\n",
              "Profit          0\n",
              "dtype: int64"
            ]
          },
          "metadata": {},
          "execution_count": 22
        }
      ]
    },
    {
      "cell_type": "markdown",
      "metadata": {
        "id": "J83tGAouytlX"
      },
      "source": [
        "**Univarient analysis**"
      ]
    },
    {
      "cell_type": "code",
      "metadata": {
        "colab": {
          "base_uri": "https://localhost:8080/"
        },
        "id": "9IBfLgV9yuZ9",
        "outputId": "3b6fdbfc-5905-443a-e873-b5eae7f12d47"
      },
      "source": [
        "dataset['Ship Mode'].value_counts()"
      ],
      "execution_count": 23,
      "outputs": [
        {
          "output_type": "execute_result",
          "data": {
            "text/plain": [
              "Standard Class    5968\n",
              "Second Class      1945\n",
              "First Class       1538\n",
              "Same Day           543\n",
              "Name: Ship Mode, dtype: int64"
            ]
          },
          "metadata": {},
          "execution_count": 23
        }
      ]
    },
    {
      "cell_type": "markdown",
      "metadata": {
        "id": "cs95UEgEzclF"
      },
      "source": [
        "So we can say that there are 4 types of ship modes"
      ]
    },
    {
      "cell_type": "code",
      "metadata": {
        "colab": {
          "base_uri": "https://localhost:8080/"
        },
        "id": "oXJkGoD1zZa9",
        "outputId": "72fdc112-1f2c-431a-e40a-8d8536ef190f"
      },
      "source": [
        "dataset['Ship Mode'].value_counts()/len(dataset['Ship Mode'])*100"
      ],
      "execution_count": 24,
      "outputs": [
        {
          "output_type": "execute_result",
          "data": {
            "text/plain": [
              "Standard Class    59.715829\n",
              "Second Class      19.461677\n",
              "First Class       15.389234\n",
              "Same Day           5.433260\n",
              "Name: Ship Mode, dtype: float64"
            ]
          },
          "metadata": {},
          "execution_count": 24
        }
      ]
    },
    {
      "cell_type": "markdown",
      "metadata": {
        "id": "2Siy7W7K0Fyy"
      },
      "source": [
        "from the whole, 59.7% shipment is fall under Standard Class\n",
        "19.4% is under Second class\n",
        "and followed by only 15.3% is belongs to first and atlast only 5.4% shipment is happened on the same day."
      ]
    },
    {
      "cell_type": "code",
      "metadata": {
        "colab": {
          "base_uri": "https://localhost:8080/",
          "height": 581
        },
        "id": "I36fAaUG0C5y",
        "outputId": "2e168e9b-5798-4e9a-dfca-a5dd59439bd3"
      },
      "source": [
        "plot=(dataset['Ship Mode'].value_counts())/len(dataset['Ship Mode'])*100\n",
        "plt.subplots(figsize=(10,8))\n",
        "plt.title('Bar Plot')\n",
        "plot.plot(kind='bar')"
      ],
      "execution_count": 25,
      "outputs": [
        {
          "output_type": "execute_result",
          "data": {
            "text/plain": [
              "<matplotlib.axes._subplots.AxesSubplot at 0x7f37c8af6590>"
            ]
          },
          "metadata": {},
          "execution_count": 25
        },
        {
          "output_type": "display_data",
          "data": {
            "image/png": "[encoded data removed]",
            "text/plain": [
              "<Figure size 720x576 with 1 Axes>"
            ]
          },
          "metadata": {
            "needs_background": "light"
          }
        }
      ]
    },
    {
      "cell_type": "markdown",
      "metadata": {
        "id": "Uoxn-poI2JA4"
      },
      "source": [
        "Visual representation of Ship mode"
      ]
    },
    {
      "cell_type": "code",
      "metadata": {
        "colab": {
          "base_uri": "https://localhost:8080/"
        },
        "id": "4PXH7PIz1s_V",
        "outputId": "8b885dc7-b0aa-4be4-9359-dd40ea99a126"
      },
      "source": [
        "dataset['Segment'].value_counts()"
      ],
      "execution_count": 26,
      "outputs": [
        {
          "output_type": "execute_result",
          "data": {
            "text/plain": [
              "Consumer       5191\n",
              "Corporate      3020\n",
              "Home Office    1783\n",
              "Name: Segment, dtype: int64"
            ]
          },
          "metadata": {},
          "execution_count": 26
        }
      ]
    },
    {
      "cell_type": "code",
      "metadata": {
        "colab": {
          "base_uri": "https://localhost:8080/",
          "height": 530
        },
        "id": "LcmhwJsv2aZj",
        "outputId": "8b5ba345-580f-49b9-ebd6-73b19a5c55b9"
      },
      "source": [
        "plt.subplots(figsize=(10,8))\n",
        "plt.title('Segments')\n",
        "sns.countplot(dataset['Segment'])"
      ],
      "execution_count": 27,
      "outputs": [
        {
          "output_type": "execute_result",
          "data": {
            "text/plain": [
              "<matplotlib.axes._subplots.AxesSubplot at 0x7f37c8a3f4d0>"
            ]
          },
          "metadata": {},
          "execution_count": 27
        },
        {
          "output_type": "display_data",
          "data": {
            "image/png": "[encoded data removed]",
            "text/plain": [
              "<Figure size 720x576 with 1 Axes>"
            ]
          },
          "metadata": {
            "needs_background": "light"
          }
        }
      ]
    },
    {
      "cell_type": "code",
      "metadata": {
        "colab": {
          "base_uri": "https://localhost:8080/"
        },
        "id": "T4Fo8C_k2toI",
        "outputId": "3f42bfd5-3eab-4c7f-c5fc-b297866b3e73"
      },
      "source": [
        "print('Most of the shipment is delivered to',dataset['State'].value_counts().idxmax())\n",
        "dataset['State'].value_counts()[0:10]"
      ],
      "execution_count": 28,
      "outputs": [
        {
          "output_type": "stream",
          "name": "stdout",
          "text": [
            "Most of the shipment is delivered to California\n"
          ]
        },
        {
          "output_type": "execute_result",
          "data": {
            "text/plain": [
              "California        2001\n",
              "New York          1128\n",
              "Texas              985\n",
              "Pennsylvania       587\n",
              "Washington         506\n",
              "Illinois           492\n",
              "Ohio               469\n",
              "Florida            383\n",
              "Michigan           255\n",
              "North Carolina     249\n",
              "Name: State, dtype: int64"
            ]
          },
          "metadata": {},
          "execution_count": 28
        }
      ]
    },
    {
      "cell_type": "markdown",
      "metadata": {
        "id": "9InFKmOA30QC"
      },
      "source": [
        "Most of the shipment is delivered to California"
      ]
    },
    {
      "cell_type": "code",
      "metadata": {
        "colab": {
          "base_uri": "https://localhost:8080/",
          "height": 381
        },
        "id": "t2aG_N3s4Cbz",
        "outputId": "56b27098-9f42-4697-a463-8bd3a86fa75b"
      },
      "source": [
        "print(dataset['Region'].value_counts())\n",
        "sns.countplot(dataset['Region'])"
      ],
      "execution_count": 29,
      "outputs": [
        {
          "output_type": "stream",
          "name": "stdout",
          "text": [
            "West       3203\n",
            "East       2848\n",
            "Central    2323\n",
            "South      1620\n",
            "Name: Region, dtype: int64\n"
          ]
        },
        {
          "output_type": "execute_result",
          "data": {
            "text/plain": [
              "<matplotlib.axes._subplots.AxesSubplot at 0x7f37c8a1b310>"
            ]
          },
          "metadata": {},
          "execution_count": 29
        },
        {
          "output_type": "display_data",
          "data": {
            "image/png": "[encoded data removed]",
            "text/plain": [
              "<Figure size 432x288 with 1 Axes>"
            ]
          },
          "metadata": {
            "needs_background": "light"
          }
        }
      ]
    },
    {
      "cell_type": "markdown",
      "metadata": {
        "id": "dVoT8ub26mWU"
      },
      "source": [
        "the most shipment is delivered to the western part of US "
      ]
    },
    {
      "cell_type": "code",
      "metadata": {
        "colab": {
          "base_uri": "https://localhost:8080/",
          "height": 364
        },
        "id": "BPcpRHXW5fD8",
        "outputId": "83fadc2b-9481-401b-b5a9-3840d472d72c"
      },
      "source": [
        "print(dataset['Category'].value_counts())\n",
        "sns.countplot(dataset['Category'])"
      ],
      "execution_count": 30,
      "outputs": [
        {
          "output_type": "stream",
          "name": "stdout",
          "text": [
            "Office Supplies    6026\n",
            "Furniture          2121\n",
            "Technology         1847\n",
            "Name: Category, dtype: int64\n"
          ]
        },
        {
          "output_type": "execute_result",
          "data": {
            "text/plain": [
              "<matplotlib.axes._subplots.AxesSubplot at 0x7f37c89e16d0>"
            ]
          },
          "metadata": {},
          "execution_count": 30
        },
        {
          "output_type": "display_data",
          "data": {
            "image/png": "[encoded data removed]",
            "text/plain": [
              "<Figure size 432x288 with 1 Axes>"
            ]
          },
          "metadata": {
            "needs_background": "light"
          }
        }
      ]
    },
    {
      "cell_type": "code",
      "metadata": {
        "colab": {
          "base_uri": "https://localhost:8080/",
          "height": 712
        },
        "id": "IZf6kKZ-6WLK",
        "outputId": "5f2d66a4-e11a-4ba3-ac6c-82910c5b3759"
      },
      "source": [
        "print(dataset['Sub-Category'].value_counts())\n",
        "plt.subplots(figsize=(10,5))\n",
        "plt.xticks(rotation=45)\n",
        "sns.countplot(dataset['Sub-Category'])\n",
        "print('Most selled product is',dataset['Sub-Category'].value_counts().idxmax())\n",
        "print('Least selled product is',dataset['Sub-Category'].value_counts().idxmin())"
      ],
      "execution_count": 31,
      "outputs": [
        {
          "output_type": "stream",
          "name": "stdout",
          "text": [
            "Binders        1523\n",
            "Paper          1370\n",
            "Furnishings     957\n",
            "Phones          889\n",
            "Storage         846\n",
            "Art             796\n",
            "Accessories     775\n",
            "Chairs          617\n",
            "Appliances      466\n",
            "Labels          364\n",
            "Tables          319\n",
            "Envelopes       254\n",
            "Bookcases       228\n",
            "Fasteners       217\n",
            "Supplies        190\n",
            "Machines        115\n",
            "Copiers          68\n",
            "Name: Sub-Category, dtype: int64\n",
            "Most selled product is Binders\n",
            "Least selled product is Copiers\n"
          ]
        },
        {
          "output_type": "display_data",
          "data": {
            "image/png": "[encoded data removed]",
            "text/plain": [
              "<Figure size 720x360 with 1 Axes>"
            ]
          },
          "metadata": {
            "needs_background": "light"
          }
        }
      ]
    },
    {
      "cell_type": "code",
      "metadata": {
        "colab": {
          "base_uri": "https://localhost:8080/",
          "height": 182
        },
        "id": "z8-GWk3S87AF",
        "outputId": "38cb73a1-0c92-4b89-f349-92782c392d5d"
      },
      "source": [
        "dataset.head(2)"
      ],
      "execution_count": 32,
      "outputs": [
        {
          "output_type": "execute_result",
          "data": {
            "text/html": [
              "<div>\n",
              "<style scoped>\n",
              "    .dataframe tbody tr th:only-of-type {\n",
              "        vertical-align: middle;\n",
              "    }\n",
              "\n",
              "    .dataframe tbody tr th {\n",
              "        vertical-align: top;\n",
              "    }\n",
              "\n",
              "    .dataframe thead th {\n",
              "        text-align: right;\n",
              "    }\n",
              "</style>\n",
              "<table border=\"1\" class=\"dataframe\">\n",
              "  <thead>\n",
              "    <tr style=\"text-align: right;\">\n",
              "      <th></th>\n",
              "      <th>Ship Mode</th>\n",
              "      <th>Segment</th>\n",
              "      <th>Country</th>\n",
              "      <th>City</th>\n",
              "      <th>State</th>\n",
              "      <th>Postal Code</th>\n",
              "      <th>Region</th>\n",
              "      <th>Category</th>\n",
              "      <th>Sub-Category</th>\n",
              "      <th>Sales</th>\n",
              "      <th>Quantity</th>\n",
              "      <th>Discount</th>\n",
              "      <th>Profit</th>\n",
              "    </tr>\n",
              "  </thead>\n",
              "  <tbody>\n",
              "    <tr>\n",
              "      <th>0</th>\n",
              "      <td>Second Class</td>\n",
              "      <td>Consumer</td>\n",
              "      <td>United States</td>\n",
              "      <td>Henderson</td>\n",
              "      <td>Kentucky</td>\n",
              "      <td>42420</td>\n",
              "      <td>South</td>\n",
              "      <td>Furniture</td>\n",
              "      <td>Bookcases</td>\n",
              "      <td>261.96</td>\n",
              "      <td>2</td>\n",
              "      <td>0.0</td>\n",
              "      <td>41.9136</td>\n",
              "    </tr>\n",
              "    <tr>\n",
              "      <th>1</th>\n",
              "      <td>Second Class</td>\n",
              "      <td>Consumer</td>\n",
              "      <td>United States</td>\n",
              "      <td>Henderson</td>\n",
              "      <td>Kentucky</td>\n",
              "      <td>42420</td>\n",
              "      <td>South</td>\n",
              "      <td>Furniture</td>\n",
              "      <td>Chairs</td>\n",
              "      <td>731.94</td>\n",
              "      <td>3</td>\n",
              "      <td>0.0</td>\n",
              "      <td>219.5820</td>\n",
              "    </tr>\n",
              "  </tbody>\n",
              "</table>\n",
              "</div>"
            ],
            "text/plain": [
              "      Ship Mode   Segment        Country  ... Quantity Discount    Profit\n",
              "0  Second Class  Consumer  United States  ...        2      0.0   41.9136\n",
              "1  Second Class  Consumer  United States  ...        3      0.0  219.5820\n",
              "\n",
              "[2 rows x 13 columns]"
            ]
          },
          "metadata": {},
          "execution_count": 32
        }
      ]
    },
    {
      "cell_type": "markdown",
      "metadata": {
        "id": "RC9Wo0MD8yRS"
      },
      "source": [
        "**Bivarient Analysis**"
      ]
    },
    {
      "cell_type": "code",
      "metadata": {
        "colab": {
          "base_uri": "https://localhost:8080/"
        },
        "id": "qJKiTsGU7-ve",
        "outputId": "bd87323f-6a2d-4965-f578-3f6449aac6d1"
      },
      "source": [
        "d=dataset.groupby('Sub-Category')['Quantity'].sum().sort_values()\n",
        "d"
      ],
      "execution_count": 33,
      "outputs": [
        {
          "output_type": "execute_result",
          "data": {
            "text/plain": [
              "Sub-Category\n",
              "Copiers         234\n",
              "Machines        440\n",
              "Supplies        647\n",
              "Bookcases       868\n",
              "Envelopes       906\n",
              "Fasteners       914\n",
              "Tables         1241\n",
              "Labels         1400\n",
              "Appliances     1729\n",
              "Chairs         2356\n",
              "Accessories    2976\n",
              "Art            3000\n",
              "Storage        3158\n",
              "Phones         3289\n",
              "Furnishings    3563\n",
              "Paper          5178\n",
              "Binders        5974\n",
              "Name: Quantity, dtype: int64"
            ]
          },
          "metadata": {},
          "execution_count": 33
        }
      ]
    },
    {
      "cell_type": "markdown",
      "metadata": {
        "id": "t6JJPzEZ-pYc"
      },
      "source": [
        "There are overall total 5974 Binders were selled at different times."
      ]
    },
    {
      "cell_type": "code",
      "metadata": {
        "colab": {
          "base_uri": "https://localhost:8080/"
        },
        "id": "qfRzZ7oz_GsR",
        "outputId": "e490f6cf-15c6-4f72-b513-5afcc7847595"
      },
      "source": [
        "print('total Quanity of all products are',d.values.sum())"
      ],
      "execution_count": 34,
      "outputs": [
        {
          "output_type": "stream",
          "name": "stdout",
          "text": [
            "total Quanity of all products are 37873\n"
          ]
        }
      ]
    },
    {
      "cell_type": "code",
      "metadata": {
        "colab": {
          "base_uri": "https://localhost:8080/",
          "height": 345
        },
        "id": "bD374GwY7ZEG",
        "outputId": "3f93f445-dce2-4cce-970b-eced79fc25aa"
      },
      "source": [
        "d.plot(kind='bar')"
      ],
      "execution_count": 35,
      "outputs": [
        {
          "output_type": "execute_result",
          "data": {
            "text/plain": [
              "<matplotlib.axes._subplots.AxesSubplot at 0x7f37c88f4410>"
            ]
          },
          "metadata": {},
          "execution_count": 35
        },
        {
          "output_type": "display_data",
          "data": {
            "image/png": "[encoded data removed]",
            "text/plain": [
              "<Figure size 432x288 with 1 Axes>"
            ]
          },
          "metadata": {
            "needs_background": "light"
          }
        }
      ]
    },
    {
      "cell_type": "code",
      "metadata": {
        "colab": {
          "base_uri": "https://localhost:8080/",
          "height": 351
        },
        "id": "2EocbsTy9Z7C",
        "outputId": "1edaad79-62f3-4445-ecc8-d64d9826786c"
      },
      "source": [
        "plt.subplots(figsize=(10,5))\n",
        "sns.lineplot(x=dataset['Discount'],y=dataset['Profit'])"
      ],
      "execution_count": 36,
      "outputs": [
        {
          "output_type": "execute_result",
          "data": {
            "text/plain": [
              "<matplotlib.axes._subplots.AxesSubplot at 0x7f37c876f810>"
            ]
          },
          "metadata": {},
          "execution_count": 36
        },
        {
          "output_type": "display_data",
          "data": {
            "image/png": "[encoded data removed]",
            "text/plain": [
              "<Figure size 720x360 with 1 Axes>"
            ]
          },
          "metadata": {
            "needs_background": "light"
          }
        }
      ]
    },
    {
      "cell_type": "markdown",
      "metadata": {
        "id": "PtlAUQunBX5n"
      },
      "source": [
        "Super store at a loss from 15% discount\n",
        "\n"
      ]
    },
    {
      "cell_type": "code",
      "metadata": {
        "colab": {
          "base_uri": "https://localhost:8080/",
          "height": 353
        },
        "id": "3-IqR-_YDz8P",
        "outputId": "c13ce152-247a-4c47-cea5-a658bd0648aa"
      },
      "source": [
        "plt.subplots(figsize=(10,5))\n",
        "sns.lineplot(x=dataset['Discount'],y=dataset['Sales'])"
      ],
      "execution_count": 37,
      "outputs": [
        {
          "output_type": "execute_result",
          "data": {
            "text/plain": [
              "<matplotlib.axes._subplots.AxesSubplot at 0x7f37c87080d0>"
            ]
          },
          "metadata": {},
          "execution_count": 37
        },
        {
          "output_type": "display_data",
          "data": {
            "image/png": "[encoded data removed]",
            "text/plain": [
              "<Figure size 720x360 with 1 Axes>"
            ]
          },
          "metadata": {
            "needs_background": "light"
          }
        }
      ]
    },
    {
      "cell_type": "markdown",
      "metadata": {
        "id": "ZwiJKDatFrgR"
      },
      "source": [
        "More sale is happened in super store when the discount rate is at 50%"
      ]
    },
    {
      "cell_type": "code",
      "metadata": {
        "colab": {
          "base_uri": "https://localhost:8080/",
          "height": 351
        },
        "id": "DzAU3UkqG3nA",
        "outputId": "293074bd-f163-4c50-937f-4cb78e23ec01"
      },
      "source": [
        "plt.subplots(figsize=(10,5))\n",
        "sns.barplot(x=dataset['Category'],y=dataset['Profit'])"
      ],
      "execution_count": 38,
      "outputs": [
        {
          "output_type": "execute_result",
          "data": {
            "text/plain": [
              "<matplotlib.axes._subplots.AxesSubplot at 0x7f37c8681990>"
            ]
          },
          "metadata": {},
          "execution_count": 38
        },
        {
          "output_type": "display_data",
          "data": {
            "image/png": "[encoded data removed]",
            "text/plain": [
              "<Figure size 720x360 with 1 Axes>"
            ]
          },
          "metadata": {
            "needs_background": "light"
          }
        }
      ]
    },
    {
      "cell_type": "markdown",
      "metadata": {
        "id": "x8P13kO8HKck"
      },
      "source": [
        "super store got more profit from technology"
      ]
    },
    {
      "cell_type": "code",
      "metadata": {
        "colab": {
          "base_uri": "https://localhost:8080/",
          "height": 389
        },
        "id": "7JW8od2JFoD7",
        "outputId": "7d93fe38-b392-43bb-8a2e-925ee465ae57"
      },
      "source": [
        "plt.subplots(figsize=(10,5))\n",
        "plt.xticks(rotation=45)\n",
        "sns.barplot(x=dataset['Sub-Category'],y=dataset['Profit'])"
      ],
      "execution_count": 39,
      "outputs": [
        {
          "output_type": "execute_result",
          "data": {
            "text/plain": [
              "<matplotlib.axes._subplots.AxesSubplot at 0x7f37c8665490>"
            ]
          },
          "metadata": {},
          "execution_count": 39
        },
        {
          "output_type": "display_data",
          "data": {
            "image/png": "[encoded data removed]",
            "text/plain": [
              "<Figure size 720x360 with 1 Axes>"
            ]
          },
          "metadata": {
            "needs_background": "light"
          }
        }
      ]
    },
    {
      "cell_type": "code",
      "metadata": {
        "colab": {
          "base_uri": "https://localhost:8080/"
        },
        "id": "CnD2q4LwHVeq",
        "outputId": "569cfa5a-e1fa-49e7-eef5-e4687a6e191f"
      },
      "source": [
        "sp=dataset.groupby('Sub-Category')['Profit'].sum().sort_values()\n",
        "sp"
      ],
      "execution_count": 40,
      "outputs": [
        {
          "output_type": "execute_result",
          "data": {
            "text/plain": [
              "Sub-Category\n",
              "Tables        -17725.4811\n",
              "Bookcases      -3472.5560\n",
              "Supplies       -1189.0995\n",
              "Fasteners        949.5182\n",
              "Machines        3384.7569\n",
              "Labels          5546.2540\n",
              "Art             6527.7870\n",
              "Envelopes       6964.1767\n",
              "Furnishings    13059.1436\n",
              "Appliances     18138.0054\n",
              "Storage        21278.8264\n",
              "Chairs         26590.1663\n",
              "Binders        30221.7633\n",
              "Paper          34053.5693\n",
              "Accessories    41936.6357\n",
              "Phones         44515.7306\n",
              "Copiers        55617.8249\n",
              "Name: Profit, dtype: float64"
            ]
          },
          "metadata": {},
          "execution_count": 40
        }
      ]
    },
    {
      "cell_type": "code",
      "metadata": {
        "colab": {
          "base_uri": "https://localhost:8080/",
          "height": 345
        },
        "id": "iAlhIlgmGgzV",
        "outputId": "7d5cc382-22f6-4b86-d98b-cd057352f67a"
      },
      "source": [
        "sp.plot(kind='bar')"
      ],
      "execution_count": 41,
      "outputs": [
        {
          "output_type": "execute_result",
          "data": {
            "text/plain": [
              "<matplotlib.axes._subplots.AxesSubplot at 0x7f37c8565390>"
            ]
          },
          "metadata": {},
          "execution_count": 41
        },
        {
          "output_type": "display_data",
          "data": {
            "image/png": "[encoded data removed]",
            "text/plain": [
              "<Figure size 432x288 with 1 Axes>"
            ]
          },
          "metadata": {
            "needs_background": "light"
          }
        }
      ]
    },
    {
      "cell_type": "code",
      "metadata": {
        "colab": {
          "base_uri": "https://localhost:8080/"
        },
        "id": "IJHBc9_qJ6zM",
        "outputId": "0f71cd1e-cca9-457c-c714-208ce03165d4"
      },
      "source": [
        "print('Total amount earned by Super store is ',round(sp.values.sum()),'USD')"
      ],
      "execution_count": 42,
      "outputs": [
        {
          "output_type": "stream",
          "name": "stdout",
          "text": [
            "Total amount earned by Super store is  286397 USD\n"
          ]
        }
      ]
    },
    {
      "cell_type": "code",
      "metadata": {
        "colab": {
          "base_uri": "https://localhost:8080/"
        },
        "id": "afuDf5ZDJUdN",
        "outputId": "ed434d55-dcff-466b-8d8d-293b28080476"
      },
      "source": [
        "print('Total Profit Earned is ',round(sp.values[sp.values>0].sum()),'USD')"
      ],
      "execution_count": 43,
      "outputs": [
        {
          "output_type": "stream",
          "name": "stdout",
          "text": [
            "Total Profit Earned is  308784 USD\n"
          ]
        }
      ]
    },
    {
      "cell_type": "code",
      "metadata": {
        "colab": {
          "base_uri": "https://localhost:8080/"
        },
        "id": "yUsbjMBXIhie",
        "outputId": "cf5ada04-1b44-4b91-c7e2-94babf580454"
      },
      "source": [
        "print('Total loss to Super store is ',round(abs(sp.values[sp.values<0].sum())),'USD')"
      ],
      "execution_count": 44,
      "outputs": [
        {
          "output_type": "stream",
          "name": "stdout",
          "text": [
            "Total loss to Super store is  22387 USD\n"
          ]
        }
      ]
    },
    {
      "cell_type": "code",
      "metadata": {
        "colab": {
          "base_uri": "https://localhost:8080/"
        },
        "id": "EYHEV3n4M1Hh",
        "outputId": "5ebe155e-af40-409c-a8f8-ea8f11c27437"
      },
      "source": [
        "print('Total amount of sale happened in super store is ',round(dataset['Sales'].sum()),'USD')"
      ],
      "execution_count": 45,
      "outputs": [
        {
          "output_type": "stream",
          "name": "stdout",
          "text": [
            "Total amount of sale happened in super store is  2297201 USD\n"
          ]
        }
      ]
    },
    {
      "cell_type": "code",
      "metadata": {
        "colab": {
          "base_uri": "https://localhost:8080/",
          "height": 341
        },
        "id": "OVtqBuEcIDEq",
        "outputId": "552bbfc9-abd4-490d-e6d7-bc03f2fb4e8b"
      },
      "source": [
        "plt.subplots(figsize=(10,5)),\n",
        "sns.heatmap(dataset.corr(),annot=True)"
      ],
      "execution_count": 46,
      "outputs": [
        {
          "output_type": "execute_result",
          "data": {
            "text/plain": [
              "<matplotlib.axes._subplots.AxesSubplot at 0x7f37c8438250>"
            ]
          },
          "metadata": {},
          "execution_count": 46
        },
        {
          "output_type": "display_data",
          "data": {
            "image/png": "[encoded data removed]",
            "text/plain": [
              "<Figure size 720x360 with 2 Axes>"
            ]
          },
          "metadata": {
            "needs_background": "light"
          }
        }
      ]
    },
    {
      "cell_type": "code",
      "metadata": {
        "id": "-Ny5jP45MMg8"
      },
      "source": [
        "summary = pd.DataFrame({'Profit':dataset.Quantity[dataset.Profit > 0].sum(), \n",
        "                        'No-Profit':dataset.Quantity[dataset.Profit == 0].sum(), \n",
        "                        'Loss':dataset.Quantity[(dataset.Profit) < 0].sum()},\n",
        "                       index={'Count'})"
      ],
      "execution_count": 47,
      "outputs": []
    },
    {
      "cell_type": "code",
      "metadata": {
        "colab": {
          "base_uri": "https://localhost:8080/",
          "height": 302
        },
        "id": "1AK3fQfbPi8j",
        "outputId": "f97785fe-c9b0-4d6e-f78c-549cd34f5eab"
      },
      "source": [
        "summary.plot(kind='bar')"
      ],
      "execution_count": 48,
      "outputs": [
        {
          "output_type": "execute_result",
          "data": {
            "text/plain": [
              "<matplotlib.axes._subplots.AxesSubplot at 0x7f37c8876150>"
            ]
          },
          "metadata": {},
          "execution_count": 48
        },
        {
          "output_type": "display_data",
          "data": {
            "image/png": "[encoded data removed]",
            "text/plain": [
              "<Figure size 432x288 with 1 Axes>"
            ]
          },
          "metadata": {
            "needs_background": "light"
          }
        }
      ]
    },
    {
      "cell_type": "code",
      "metadata": {
        "colab": {
          "base_uri": "https://localhost:8080/",
          "height": 350
        },
        "id": "2jw_ymYCQEn_",
        "outputId": "3c53027a-83cd-48ac-9b66-6f99c8bb30a9"
      },
      "source": [
        "plt.pie(summary,labels=['Loss','Non-profit','Profit'])"
      ],
      "execution_count": 49,
      "outputs": [
        {
          "output_type": "execute_result",
          "data": {
            "text/plain": [
              "([<matplotlib.patches.Wedge at 0x7f37bfbe8d50>,\n",
              "  <matplotlib.patches.Wedge at 0x7f37bfb76210>,\n",
              "  <matplotlib.patches.Wedge at 0x7f37bfb761d0>],\n",
              " [Text(-0.9046738075343981, 0.6257517894191074, 'Loss'),\n",
              "  Text(0.40974632352311824, -1.0208368872446216, 'Non-profit'),\n",
              "  Text(0.9177066398415972, -0.606477141523607, 'Profit')])"
            ]
          },
          "metadata": {},
          "execution_count": 49
        },
        {
          "output_type": "display_data",
          "data": {
            "image/png": "[encoded data removed]",
            "text/plain": [
              "<Figure size 432x288 with 1 Axes>"
            ]
          },
          "metadata": {}
        }
      ]
    },
    {
      "cell_type": "markdown",
      "metadata": {
        "id": "4Zh-DFxmp8vo"
      },
      "source": [
        "**Findings**\n",
        "* Most of the sales is happened in while the discount rate is at 50%.\n",
        "* Upto 10% of discount rate the profit is increasing and there after the profit is decresing.\n",
        "* from the heatmap we can say that profit and sale is highly related"
      ]
    },
    {
      "cell_type": "markdown",
      "metadata": {
        "id": "oPmro0PeqWtD"
      },
      "source": [
        "**Conclution**\n",
        "* Discount should be maintain in between 0 - 10% for getting enough profit\n",
        "* incresing the technology products for getting good profit for super store \n",
        "* Decresing the sales of furniture which helps to reduce the risk in business"
      ]
    },
    {
      "cell_type": "code",
      "metadata": {
        "id": "LyrvSTefqcpc"
      },
      "source": [
        ""
      ],
      "execution_count": null,
      "outputs": []
    }
  ]
}